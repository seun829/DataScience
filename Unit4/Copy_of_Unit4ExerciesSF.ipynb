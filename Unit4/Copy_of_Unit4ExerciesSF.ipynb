{
  "nbformat": 4,
  "nbformat_minor": 0,
  "metadata": {
    "colab": {
      "provenance": [],
      "include_colab_link": true
    },
    "kernelspec": {
      "name": "python3",
      "display_name": "Python 3"
    },
    "language_info": {
      "name": "python"
    }
  },
  "cells": [
    {
      "cell_type": "markdown",
      "metadata": {
        "id": "view-in-github",
        "colab_type": "text"
      },
      "source": [
        "<a href=\"https://colab.research.google.com/github/seun829/DataScience/blob/main/Unit4/Copy_of_Unit4ExerciesSF.ipynb\" target=\"_parent\"><img src=\"https://colab.research.google.com/assets/colab-badge.svg\" alt=\"Open In Colab\"/></a>"
      ]
    },
    {
      "cell_type": "code",
      "execution_count": null,
      "metadata": {
        "id": "5mCgnW7TrYA0"
      },
      "outputs": [],
      "source": [
        "import numpy as np\n",
        "from matplotlib import pyplot as plt\n",
        "import seaborn as sns\n",
        "import pandas as pd\n",
        "import arviz as az\n",
        "import pymc as pm"
      ]
    },
    {
      "cell_type": "markdown",
      "source": [
        "# Unit 4 Exercises: Tinkering Hierarchical Models\n",
        "\n",
        "These exercises are designed to force you to look at the nuances of the models we looked at in class, while exploring some \"what ifs\". There's also some mild data wrangling for you to enjoy at in task6.\n",
        "\n"
      ],
      "metadata": {
        "id": "eXBWkDOftDwv"
      }
    },
    {
      "cell_type": "markdown",
      "source": [
        "**Task1**:\n",
        "\n",
        "Redo the chemical shift hierarchical model, execpt with all Student T  and Half Student T likelihood and priors.\n",
        "\n",
        "Then, compare group posteriors of the normal chem shift model with your new Student T model using a ridge plot."
      ],
      "metadata": {
        "id": "-oz7slAN9O8m"
      }
    },
    {
      "cell_type": "code",
      "source": [
        "#load the data from my github page.\n",
        "#cs stands for chemical shift data\n",
        "url_cs = 'https://raw.githubusercontent.com/thedarredondo/data-science-fundamentals/main/Data/chemical_shifts_theo_exp.csv'\n",
        "#I could have put the url string directly into pd.read_csv()\n",
        "cs_data = pd.read_csv(url_cs)"
      ],
      "metadata": {
        "id": "ZAAQAimc-ULT"
      },
      "execution_count": null,
      "outputs": []
    },
    {
      "cell_type": "code",
      "source": [
        "cs_data"
      ],
      "metadata": {
        "id": "1w9wszGi-UpD"
      },
      "execution_count": null,
      "outputs": []
    },
    {
      "cell_type": "code",
      "source": [
        "#element wise subtraction\n",
        "diff_TminusE = cs_data.theo - cs_data.exp\n",
        "#adds a column called 'diff_TminusE' as the fifth column of cs_data\n",
        "cs_data.insert(loc=4,column='diff_TminusE',value=diff_TminusE)"
      ],
      "metadata": {
        "id": "GcDNXqa1-O-T"
      },
      "execution_count": null,
      "outputs": []
    },
    {
      "cell_type": "code",
      "source": [
        "cs_data"
      ],
      "metadata": {
        "id": "GI6_Jv3Z-Q0D"
      },
      "execution_count": null,
      "outputs": []
    },
    {
      "cell_type": "code",
      "source": [
        "#identifies all the different amino acids in our data set\n",
        "#and stores that information, plus original info, in the variable aa_encode\n",
        "aa_encode = pd.Categorical(cs_data['aa'])\n",
        "aa_encode"
      ],
      "metadata": {
        "id": "xFNAHPUu-Ip9"
      },
      "execution_count": null,
      "outputs": []
    },
    {
      "cell_type": "code",
      "source": [
        "#Replaces all the amino acid names with a number in the variable aa_idx\n",
        "aa_idx = aa_encode.codes\n",
        "aa_idx"
      ],
      "metadata": {
        "id": "vepIqXOX-JTC"
      },
      "execution_count": null,
      "outputs": []
    },
    {
      "cell_type": "code",
      "source": [
        "#stores the category names in a dictionary\n",
        "#this dictionary format is required\n",
        "#for pymc to properly read the categories\n",
        "aa_coords = {\"aa\": aa_encode.categories}\n",
        "aa_coords"
      ],
      "metadata": {
        "id": "alxUlgjf-K82"
      },
      "execution_count": null,
      "outputs": []
    },
    {
      "cell_type": "code",
      "source": [
        "with pm.Model(coords=aa_coords) as cs_h_model:\n",
        "    # hyperpriors. Notice how there's no dims argument.\n",
        "    #this means that the hyperprior is shared across all amino acids\n",
        "    μ_mu = pm.Normal('μ_mu', mu = 0, sigma = 10)\n",
        "    μ_sd = pm.HalfNormal('μ_sd', sigma = 10)\n",
        "\n",
        "    # priors. There is a different prior for each amino acid,\n",
        "    #but now the μ priors 'talk' to one another through μ_mu and μ_sd\n",
        "    μ = pm.Normal('μ',\n",
        "                  mu = μ_mu, # I include the hyperprior in my prior\n",
        "                  sigma = μ_sd, # I include the hyperprior in my prior\n",
        "                  dims = \"aa\")\n",
        "\n",
        "    σ = pm.HalfNormal('σ', sigma = 10,\n",
        "                      dims = \"aa\")\n",
        "\n",
        "    #likelihood; same as before\n",
        "    y = pm.Normal('y',\n",
        "                  mu = μ[aa_idx], #I include the prior in my likelihood\n",
        "                  sigma = σ[aa_idx], #I include the prior in my likelihood\n",
        "                  observed = cs_data.diff_TminusE)\n",
        "\n",
        "    #cs for chemshift, h for heirarchical\n",
        "    idata_cs_h = pm.sample()"
      ],
      "metadata": {
        "id": "awVedfg-7eSY"
      },
      "execution_count": null,
      "outputs": []
    },
    {
      "cell_type": "code",
      "source": [
        "with pm.Model(coords=aa_coords) as cs_hn_model:\n",
        "    # hyperpriors. Notice how there's no dims argument.\n",
        "    #this means that the hyperprior is shared across all amino acids\n",
        "    μ_mu = pm.StudentT('μ_mu', nu=3, mu = 0, sigma = 10)\n",
        "    μ_sd = pm.HalfStudentT('μ_sd', nu=3, sigma = 10)\n",
        "\n",
        "    # priors. There is a different prior for each amino acid,\n",
        "    #but now the μ priors 'talk' to one another through μ_mu and μ_sd\n",
        "    μ = pm.StudentT('μ',\n",
        "                  nu=3,\n",
        "                  mu = μ_mu, # I include the hyperprior in my prior\n",
        "                  sigma = μ_sd, # I include the hyperprior in my prior\n",
        "                  dims = \"aa\")\n",
        "\n",
        "    σ = pm.HalfStudentT('σ', nu=3, sigma = 10,\n",
        "                      dims = \"aa\")\n",
        "\n",
        "    #likelihood; same as before\n",
        "    y = pm.StudentT('y',\n",
        "                  nu=3,\n",
        "                  mu = μ[aa_idx], #I include the prior in my likelihood\n",
        "                  sigma = σ[aa_idx], #I include the prior in my likelihood\n",
        "                  observed = cs_data.diff_TminusE)\n",
        "\n",
        "    #cs for chemshift, h for heirarchical\n",
        "    idata_cs_hn = pm.sample()"
      ],
      "metadata": {
        "id": "RMKRhYClGYDu"
      },
      "execution_count": null,
      "outputs": []
    },
    {
      "cell_type": "code",
      "source": [
        "#plots a 99.7% hdi for the posteriors of both models on the same plot\n",
        "axes = az.plot_forest([idata_cs_h, idata_cs_hn], kind=\"forestplot\",\n",
        "                      model_names=['original hierarchial', 'new hierarchial'],\n",
        "                      var_names='μ', combined=True, figsize=(12, 10),hdi_prob=0.997)\n",
        "\n",
        "#plots overall mean of the hierarchical model; do not confuse with 0\n",
        "y_lims = axes[0].get_ylim()\n",
        "axes[0].vlines(idata_cs_h.posterior['μ_mu'].mean(), *y_lims, color=\"k\", ls=\":\");"
      ],
      "metadata": {
        "id": "EkW2BKHkD9hD"
      },
      "execution_count": null,
      "outputs": []
    },
    {
      "cell_type": "markdown",
      "source": [
        "**Task2**:\n",
        "\n",
        "Run a posterior predictive check for both models. Which seems to fit the data better?"
      ],
      "metadata": {
        "id": "LB0z75bcQK9C"
      }
    },
    {
      "cell_type": "code",
      "source": [
        "pm.sample_posterior_predictive(idata_cs_h, model=cs_h_model, extend_inferencedata=True)"
      ],
      "metadata": {
        "id": "z6DXWqhaXA6C"
      },
      "execution_count": null,
      "outputs": []
    },
    {
      "cell_type": "code",
      "source": [
        "pm.sample_posterior_predictive(idata_cs_hn, model=cs_hn_model, extend_inferencedata=True)"
      ],
      "metadata": {
        "id": "_8Ebe7xXJcH3"
      },
      "execution_count": null,
      "outputs": []
    },
    {
      "cell_type": "code",
      "source": [
        "az.plot_ppc(idata_cs_h, num_pp_samples=100, figsize=(12, 4), colors=[\"C1\", \"C0\", \"C1\"])"
      ],
      "metadata": {
        "id": "3_Sd5CJC80Bi"
      },
      "execution_count": null,
      "outputs": []
    },
    {
      "cell_type": "code",
      "source": [
        "az.plot_ppc(idata_cs_hn, num_pp_samples=100, figsize=(12, 4), colors=[\"C1\", \"C0\", \"C1\"])"
      ],
      "metadata": {
        "id": "lrqf52IgId-T"
      },
      "execution_count": null,
      "outputs": []
    },
    {
      "cell_type": "markdown",
      "source": [
        "**Task3**:\n",
        "\n",
        "Redo the soccer model, but this time, assume the groups are independent. This will be a non-hierarchical model."
      ],
      "metadata": {
        "id": "SlQWf6ieGwLT"
      }
    },
    {
      "cell_type": "code",
      "source": [
        "#load the data from my github page.\n",
        "#sccr stands for soccer\n",
        "url_sccr = 'https://raw.githubusercontent.com/thedarredondo/data-science-fundamentals/main/Data/football_players.csv'\n",
        "\n",
        "#Turns the position column into a categorical variable\n",
        "sccr_data = pd.read_csv(url_sccr,dtype={'position':'category'})"
      ],
      "metadata": {
        "id": "xCvmTWhR-rND"
      },
      "execution_count": null,
      "outputs": []
    },
    {
      "cell_type": "code",
      "source": [
        "#this is an array of the soccer positions,\n",
        "#except they are given an int (number) label instead of a string (of letters)\n",
        "pos_idx = sccr_data.position.cat.codes.values\n",
        "\n",
        "#an array of the four strings that represent position\n",
        "pos_codes = sccr_data.position.cat.categories\n",
        "\n",
        "#puts coords in a dict, so pymc can read them\n",
        "sccr_coords = {\"pos\": pos_codes}"
      ],
      "metadata": {
        "id": "rlS6FZ7x-1RL"
      },
      "execution_count": null,
      "outputs": []
    },
    {
      "cell_type": "code",
      "source": [
        "with pm.Model(coords = sccr_coords) as sccr_model:\n",
        "\n",
        "    # Parameters for positions\n",
        "    μ_p = pm.Beta('μ_p', alpha = 2, beta = 20, dims = \"pos\")\n",
        "\n",
        "    ν_p = pm.Gamma('ν_p', mu = 55, sigma = 45, dims=\"pos\")\n",
        "    # Parameter for players\n",
        "    θ = pm.Beta('θ', mu = μ_p[pos_idx], nu = ν_p[pos_idx])\n",
        "\n",
        "    #This tells our model how many shots and goals each player has\n",
        "    _ = pm.Binomial('gs',\n",
        "                    n = sccr_data.shots.values, #shots for each player\n",
        "                    p = θ, #guess of goals per shot\n",
        "                    observed = sccr_data.goals.values) #goals per player\n",
        "\n",
        "    #target_accept has a default of 0.8. Increasing it makes us less likely to\n",
        "    #have divergences\n",
        "    idata_sccr = pm.sample(target_accept = 0.95)"
      ],
      "metadata": {
        "id": "7rEP3ixc9dZ1"
      },
      "execution_count": null,
      "outputs": []
    },
    {
      "cell_type": "markdown",
      "source": [
        "**Task4**:\n",
        "\n",
        "Run plot trace and rhat on your inference data object for the non-hierarchical soccer model. How does this compare to the hierarchical model?"
      ],
      "metadata": {
        "id": "_cYMioF1Kv9G"
      }
    },
    {
      "cell_type": "code",
      "source": [
        "az.plot_trace(idata_sccr)"
      ],
      "metadata": {
        "id": "7CGJ-sAQ9iED"
      },
      "execution_count": null,
      "outputs": []
    },
    {
      "cell_type": "markdown",
      "source": [
        "There are no hyperprior graphs."
      ],
      "metadata": {
        "id": "9UyBiwbOOdkO"
      }
    },
    {
      "cell_type": "markdown",
      "source": [
        "**Task5**:\n",
        "\n",
        "Plot the posterior of the means for each soccer position in the non-hierarchical model.\n",
        "\n",
        "How do these posteriors compare to the hierarchical model we did in class?"
      ],
      "metadata": {
        "id": "43qYLhu9H59d"
      }
    },
    {
      "cell_type": "code",
      "source": [
        "# plots a 99.8% HDI for the positions shooting percentage means\n",
        "az.plot_forest(idata_sccr, var_names=['μ_p'], combined=True, figsize=(12, 3), kind = 'ridgeplot', hdi_prob=0.998)"
      ],
      "metadata": {
        "id": "BBN-2ZV1EF9T"
      },
      "execution_count": null,
      "outputs": []
    },
    {
      "cell_type": "markdown",
      "source": [
        "It is pretty similar, other than the tail reaching out slightly further than the hierarchical model."
      ],
      "metadata": {
        "id": "Dqg6qf1QO_dm"
      }
    },
    {
      "cell_type": "markdown",
      "source": [
        "**Task6**:\n",
        "\n",
        "Redo the soccer model as a hierarchical model, but remove all the goalkeepers (GK) from the data. In other words, run a hierarchical model on only the defenders, midfielders, and forwards."
      ],
      "metadata": {
        "id": "gBGXsW65IzwT"
      }
    },
    {
      "cell_type": "code",
      "source": [
        "sccr_data_no = sccr_data[sccr_data.position != 'GK']"
      ],
      "metadata": {
        "id": "X5TAfGYJQ63H"
      },
      "execution_count": null,
      "outputs": []
    },
    {
      "cell_type": "code",
      "source": [
        "sccr_data_no"
      ],
      "metadata": {
        "id": "ZTLGxeiyQ9vA"
      },
      "execution_count": null,
      "outputs": []
    },
    {
      "cell_type": "code",
      "source": [
        "#this is an array of the soccer positions,\n",
        "#except they are given an int (number) label instead of a string (of letters)\n",
        "pos_idx_no = sccr_data_no.position.cat.codes.values\n",
        "\n",
        "#an array of the four strings that represent position\n",
        "# We need to update the categories to only include the positions in sccr_data_no\n",
        "pos_codes_no = sccr_data_no.position.cat.categories\n",
        "\n",
        "#puts coords in a dict, so pymc can read them\n",
        "sccr_coords_no = {\"pos\": pos_codes_no}"
      ],
      "metadata": {
        "id": "BeRytamzTVAa"
      },
      "execution_count": null,
      "outputs": []
    },
    {
      "cell_type": "code",
      "source": [
        "with pm.Model(coords = sccr_coords_no) as sccr_model_no:\n",
        "    # Hyper parameters\n",
        "    μ = pm.Beta('μ', alpha = 2, beta = 20)\n",
        "    ν = pm.Gamma('ν', mu = 55, sigma = 45)\n",
        "\n",
        "\n",
        "    # Parameters for positions\n",
        "    μ_p = pm.Beta('μ_p', mu = μ, nu = ν, dims = \"pos\")\n",
        "\n",
        "    ν_p = pm.Gamma('ν_p', mu = 55, sigma = 45, dims=\"pos\")\n",
        "\n",
        "    # Parameter for players\n",
        "    θ = pm.Beta('θ', mu = μ_p[pos_idx], nu = ν_p[pos_idx])\n",
        "\n",
        "    #This tells our model how many shots and goals each player has\n",
        "    _ = pm.Binomial('gs',\n",
        "                    n = sccr_data.shots.values, #shots for each player\n",
        "                    p = θ, #guess of goals per shot\n",
        "                    observed = sccr_data.goals.values) #goals per player\n",
        "\n",
        "    #target_accept has a default of 0.8. Increasing it makes us less likely to\n",
        "    #have divergences\n",
        "    idata_sccr_no = pm.sample(target_accept = 0.95)"
      ],
      "metadata": {
        "id": "yy--2P8tQb8q"
      },
      "execution_count": null,
      "outputs": []
    },
    {
      "cell_type": "markdown",
      "source": [
        "**Task7**:\n",
        "\n",
        "Compare the plot trace and rhat results for the hierarchical model with GKs and without GKs. Then answer the following questions:\n",
        "- Which model was easier for pymc to process?\n",
        "- What do we lose by dropping Gks from the data set? What do we gain?"
      ],
      "metadata": {
        "id": "fcKJ1HhLK_nN"
      }
    },
    {
      "cell_type": "code",
      "source": [
        "az.plot_trace(idata_sccr_no)"
      ],
      "metadata": {
        "id": "HRNMSCxyVf9F"
      },
      "execution_count": null,
      "outputs": []
    },
    {
      "cell_type": "code",
      "source": [
        "az.rhat(idata_sccr_no)"
      ],
      "metadata": {
        "id": "MtphqxptVjRv"
      },
      "execution_count": null,
      "outputs": []
    },
    {
      "cell_type": "markdown",
      "source": [
        "The one without GK's was easier to process. The reason would be because there is less data to graph, so there are a lot less computations to perform, and therefore it would take less time.",
        "The model without GK has heads in a different direction. The values are shifted over slightly to the left as well. While we lose valuable information about a part of our data, in return it runs faster and it is technically more efficient."
      ],
      "metadata": {
        "id": "7KEg4ON6V-ww"
      }
    }
  ]
}
