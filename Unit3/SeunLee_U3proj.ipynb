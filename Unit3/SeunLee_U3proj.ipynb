{
  "nbformat": 4,
  "nbformat_minor": 0,
  "metadata": {
    "colab": {
      "provenance": [],
      "toc_visible": true,
      "authorship_tag": "ABX9TyOWRcj5WafG+qSOJwou0/WN",
      "include_colab_link": true
    },
    "kernelspec": {
      "name": "python3",
      "display_name": "Python 3"
    },
    "language_info": {
      "name": "python"
    }
  },
  "cells": [
    {
      "cell_type": "markdown",
      "metadata": {
        "id": "view-in-github",
        "colab_type": "text"
      },
      "source": [
        "<a href=\"https://colab.research.google.com/github/seun829/DataScience/blob/main/Unit3/SeunLee_U3proj.ipynb\" target=\"_parent\"><img src=\"https://colab.research.google.com/assets/colab-badge.svg\" alt=\"Open In Colab\"/></a>"
      ]
    },
    {
      "cell_type": "markdown",
      "source": [
        "# Predicting the True Average Number of Google Stock (in millions) Traded in a Day\n"
      ],
      "metadata": {
        "id": "UKrzYsiTF-Ab"
      }
    },
    {
      "cell_type": "markdown",
      "source": [
        "First we will import all of the required tools."
      ],
      "metadata": {
        "id": "1LzPyrnDGnH-"
      }
    },
    {
      "cell_type": "code",
      "source": [
        "!pip install preliz"
      ],
      "metadata": {
        "colab": {
          "base_uri": "https://localhost:8080/"
        },
        "id": "flf_y4BwHFt3",
        "outputId": "fc021280-dd44-4c3a-83b6-f7ac1bf1f249"
      },
      "execution_count": 13,
      "outputs": [
        {
          "output_type": "stream",
          "name": "stdout",
          "text": [
            "Requirement already satisfied: preliz in /usr/local/lib/python3.12/dist-packages (0.21.0)\n",
            "Requirement already satisfied: arviz_stats>=0.6.0 in /usr/local/lib/python3.12/dist-packages (from preliz) (0.6.0)\n",
            "Requirement already satisfied: matplotlib>=3.8 in /usr/local/lib/python3.12/dist-packages (from preliz) (3.10.0)\n",
            "Requirement already satisfied: numba>=0.59 in /usr/local/lib/python3.12/dist-packages (from preliz) (0.60.0)\n",
            "Requirement already satisfied: numpy>=2.0 in /usr/local/lib/python3.12/dist-packages (from preliz) (2.0.2)\n",
            "Requirement already satisfied: scipy>=1.12 in /usr/local/lib/python3.12/dist-packages (from preliz) (1.16.2)\n",
            "Requirement already satisfied: contourpy>=1.0.1 in /usr/local/lib/python3.12/dist-packages (from matplotlib>=3.8->preliz) (1.3.3)\n",
            "Requirement already satisfied: cycler>=0.10 in /usr/local/lib/python3.12/dist-packages (from matplotlib>=3.8->preliz) (0.12.1)\n",
            "Requirement already satisfied: fonttools>=4.22.0 in /usr/local/lib/python3.12/dist-packages (from matplotlib>=3.8->preliz) (4.60.1)\n",
            "Requirement already satisfied: kiwisolver>=1.3.1 in /usr/local/lib/python3.12/dist-packages (from matplotlib>=3.8->preliz) (1.4.9)\n",
            "Requirement already satisfied: packaging>=20.0 in /usr/local/lib/python3.12/dist-packages (from matplotlib>=3.8->preliz) (25.0)\n",
            "Requirement already satisfied: pillow>=8 in /usr/local/lib/python3.12/dist-packages (from matplotlib>=3.8->preliz) (11.3.0)\n",
            "Requirement already satisfied: pyparsing>=2.3.1 in /usr/local/lib/python3.12/dist-packages (from matplotlib>=3.8->preliz) (3.2.5)\n",
            "Requirement already satisfied: python-dateutil>=2.7 in /usr/local/lib/python3.12/dist-packages (from matplotlib>=3.8->preliz) (2.9.0.post0)\n",
            "Requirement already satisfied: llvmlite<0.44,>=0.43.0dev0 in /usr/local/lib/python3.12/dist-packages (from numba>=0.59->preliz) (0.43.0)\n",
            "Requirement already satisfied: six>=1.5 in /usr/local/lib/python3.12/dist-packages (from python-dateutil>=2.7->matplotlib>=3.8->preliz) (1.17.0)\n"
          ]
        }
      ]
    },
    {
      "cell_type": "code",
      "source": [
        "import preliz as pz\n",
        "import pymc as pm\n",
        "import arviz as az"
      ],
      "metadata": {
        "id": "LJTjEjW5G_s2"
      },
      "execution_count": 14,
      "outputs": []
    },
    {
      "cell_type": "code",
      "source": [
        "import pandas as pd"
      ],
      "metadata": {
        "id": "1l_T_AMVJtPG"
      },
      "execution_count": 15,
      "outputs": []
    },
    {
      "cell_type": "markdown",
      "source": [
        "# Introduction"
      ],
      "metadata": {
        "id": "Ih1rIl-yHLDe"
      }
    },
    {
      "cell_type": "markdown",
      "source": [
        "For this project I will be predicting the true number of Google stock that is traded everyday, taking this by the millions for cleaner data and results.\n"
      ],
      "metadata": {
        "id": "b-m2sc8dHObu"
      }
    },
    {
      "cell_type": "markdown",
      "source": [
        "I chose this topic because volume is an important factor to consider and predicting volume can be very helpful in making decisions with stocks. I feel that ultimately, there are some hidden patterns in volume in stocks that I hope to uncover through this project.\n"
      ],
      "metadata": {
        "id": "KF2e279EtF-H"
      }
    },
    {
      "cell_type": "markdown",
      "source": [
        "I felt that doing this for the whole market would be not so great of an idea considering the volatility, which is why I chose to look at specifically data about Google stock."
      ],
      "metadata": {
        "id": "Ou98CW4OS_0e"
      }
    },
    {
      "cell_type": "markdown",
      "source": [
        "# Prior/Likelihood"
      ],
      "metadata": {
        "id": "Hab4UowhH0vZ"
      }
    },
    {
      "cell_type": "markdown",
      "source": [
        "For a prior I will use a Uniform distribution to have a general sense of the situation of Google stock volume."
      ],
      "metadata": {
        "id": "6v453U4CJAPE"
      }
    },
    {
      "cell_type": "markdown",
      "source": [
        "\n",
        "Based on data pulled from Robinhood it states that the 3 month average for Google Stock volume was 29.13 million (https://robinhood.com/us/en/stocks/GOOGL/) with sources like Yahoo finance saying 23.39 million (https://finance.yahoo.com/quote/GOOGL/key-statistics)."
      ],
      "metadata": {
        "id": "7JWrQA_8vt7j"
      }
    },
    {
      "cell_type": "markdown",
      "source": [
        "I will set the parameters to 23.39 and 29.19 as the lower and upper bound."
      ],
      "metadata": {
        "id": "ct-_5J3sxXkI"
      }
    },
    {
      "cell_type": "code",
      "source": [
        "pz.Uniform(23.39, 29.19).plot_pdf(moments=\"mvsk\")"
      ],
      "metadata": {
        "colab": {
          "base_uri": "https://localhost:8080/",
          "height": 447
        },
        "id": "Lhc9nDXjwdIz",
        "outputId": "1a0feec3-8c52-420e-b67f-96fae48b51a6"
      },
      "execution_count": 16,
      "outputs": [
        {
          "output_type": "execute_result",
          "data": {
            "text/plain": [
              "<Axes: >"
            ]
          },
          "metadata": {},
          "execution_count": 16
        },
        {
          "output_type": "display_data",
          "data": {
            "text/plain": [
              "<Figure size 640x480 with 1 Axes>"
            ],
            "image/png": "[encoded data removed]"
          },
          "metadata": {}
        }
      ]
    },
    {
      "cell_type": "markdown",
      "source": [
        "Next I will use my dataset for my likelihood."
      ],
      "metadata": {
        "id": "XqDEtLvtv0zQ"
      }
    },
    {
      "cell_type": "code",
      "source": [
        "link = \"https://raw.githubusercontent.com/seun829/DataScience/refs/heads/main/Google-Stock-Data.csv\"\n",
        "google_data = pd.read_csv(link)"
      ],
      "metadata": {
        "id": "ysaLFPooJXay"
      },
      "execution_count": 17,
      "outputs": []
    },
    {
      "cell_type": "code",
      "source": [
        "google_data"
      ],
      "metadata": {
        "id": "TBFl6-u5LK7x",
        "colab": {
          "base_uri": "https://localhost:8080/",
          "height": 424
        },
        "outputId": "5e906801-5cfd-4f58-9b25-5dd9571b911d"
      },
      "execution_count": 18,
      "outputs": [
        {
          "output_type": "execute_result",
          "data": {
            "text/plain": [
              "            Date        Open        High         Low       Close   Adj Close  \\\n",
              "0     2004-08-19    2.490664    2.591785    2.390042    2.499133    2.499133   \n",
              "1     2004-08-20    2.515820    2.716817    2.503118    2.697639    2.697639   \n",
              "2     2004-08-23    2.758411    2.826406    2.716070    2.724787    2.724787   \n",
              "3     2004-08-24    2.770615    2.779581    2.579581    2.611960    2.611960   \n",
              "4     2004-08-25    2.614201    2.689918    2.587302    2.640104    2.640104   \n",
              "...          ...         ...         ...         ...         ...         ...   \n",
              "4853  2023-11-29  138.985001  139.669998  136.294998  136.399994  136.399994   \n",
              "4854  2023-11-30  136.399994  136.960007  132.789993  133.919998  133.919998   \n",
              "4855  2023-12-01  133.320007  133.500000  132.151993  133.320007  133.320007   \n",
              "4856  2023-12-04  131.294006  131.449997  129.399994  130.630005  130.630005   \n",
              "4857  2023-12-05  130.369995  133.539993  129.729996  132.389999  132.389999   \n",
              "\n",
              "         Volume  \n",
              "0     897427216  \n",
              "1     458857488  \n",
              "2     366857939  \n",
              "3     306396159  \n",
              "4     184645512  \n",
              "...         ...  \n",
              "4853   21014700  \n",
              "4854   29913500  \n",
              "4855   24258400  \n",
              "4856   24117100  \n",
              "4857   19216500  \n",
              "\n",
              "[4858 rows x 7 columns]"
            ],
            "text/html": [
              "\n",
              "  <div id=\"df-e5557163-9258-49b4-80f8-070a6a475a16\" class=\"colab-df-container\">\n",
              "    <div>\n",
              "<style scoped>\n",
              "    .dataframe tbody tr th:only-of-type {\n",
              "        vertical-align: middle;\n",
              "    }\n",
              "\n",
              "    .dataframe tbody tr th {\n",
              "        vertical-align: top;\n",
              "    }\n",
              "\n",
              "    .dataframe thead th {\n",
              "        text-align: right;\n",
              "    }\n",
              "</style>\n",
              "<table border=\"1\" class=\"dataframe\">\n",
              "  <thead>\n",
              "    <tr style=\"text-align: right;\">\n",
              "      <th></th>\n",
              "      <th>Date</th>\n",
              "      <th>Open</th>\n",
              "      <th>High</th>\n",
              "      <th>Low</th>\n",
              "      <th>Close</th>\n",
              "      <th>Adj Close</th>\n",
              "      <th>Volume</th>\n",
              "    </tr>\n",
              "  </thead>\n",
              "  <tbody>\n",
              "    <tr>\n",
              "      <th>0</th>\n",
              "      <td>2004-08-19</td>\n",
              "      <td>2.490664</td>\n",
              "      <td>2.591785</td>\n",
              "      <td>2.390042</td>\n",
              "      <td>2.499133</td>\n",
              "      <td>2.499133</td>\n",
              "      <td>897427216</td>\n",
              "    </tr>\n",
              "    <tr>\n",
              "      <th>1</th>\n",
              "      <td>2004-08-20</td>\n",
              "      <td>2.515820</td>\n",
              "      <td>2.716817</td>\n",
              "      <td>2.503118</td>\n",
              "      <td>2.697639</td>\n",
              "      <td>2.697639</td>\n",
              "      <td>458857488</td>\n",
              "    </tr>\n",
              "    <tr>\n",
              "      <th>2</th>\n",
              "      <td>2004-08-23</td>\n",
              "      <td>2.758411</td>\n",
              "      <td>2.826406</td>\n",
              "      <td>2.716070</td>\n",
              "      <td>2.724787</td>\n",
              "      <td>2.724787</td>\n",
              "      <td>366857939</td>\n",
              "    </tr>\n",
              "    <tr>\n",
              "      <th>3</th>\n",
              "      <td>2004-08-24</td>\n",
              "      <td>2.770615</td>\n",
              "      <td>2.779581</td>\n",
              "      <td>2.579581</td>\n",
              "      <td>2.611960</td>\n",
              "      <td>2.611960</td>\n",
              "      <td>306396159</td>\n",
              "    </tr>\n",
              "    <tr>\n",
              "      <th>4</th>\n",
              "      <td>2004-08-25</td>\n",
              "      <td>2.614201</td>\n",
              "      <td>2.689918</td>\n",
              "      <td>2.587302</td>\n",
              "      <td>2.640104</td>\n",
              "      <td>2.640104</td>\n",
              "      <td>184645512</td>\n",
              "    </tr>\n",
              "    <tr>\n",
              "      <th>...</th>\n",
              "      <td>...</td>\n",
              "      <td>...</td>\n",
              "      <td>...</td>\n",
              "      <td>...</td>\n",
              "      <td>...</td>\n",
              "      <td>...</td>\n",
              "      <td>...</td>\n",
              "    </tr>\n",
              "    <tr>\n",
              "      <th>4853</th>\n",
              "      <td>2023-11-29</td>\n",
              "      <td>138.985001</td>\n",
              "      <td>139.669998</td>\n",
              "      <td>136.294998</td>\n",
              "      <td>136.399994</td>\n",
              "      <td>136.399994</td>\n",
              "      <td>21014700</td>\n",
              "    </tr>\n",
              "    <tr>\n",
              "      <th>4854</th>\n",
              "      <td>2023-11-30</td>\n",
              "      <td>136.399994</td>\n",
              "      <td>136.960007</td>\n",
              "      <td>132.789993</td>\n",
              "      <td>133.919998</td>\n",
              "      <td>133.919998</td>\n",
              "      <td>29913500</td>\n",
              "    </tr>\n",
              "    <tr>\n",
              "      <th>4855</th>\n",
              "      <td>2023-12-01</td>\n",
              "      <td>133.320007</td>\n",
              "      <td>133.500000</td>\n",
              "      <td>132.151993</td>\n",
              "      <td>133.320007</td>\n",
              "      <td>133.320007</td>\n",
              "      <td>24258400</td>\n",
              "    </tr>\n",
              "    <tr>\n",
              "      <th>4856</th>\n",
              "      <td>2023-12-04</td>\n",
              "      <td>131.294006</td>\n",
              "      <td>131.449997</td>\n",
              "      <td>129.399994</td>\n",
              "      <td>130.630005</td>\n",
              "      <td>130.630005</td>\n",
              "      <td>24117100</td>\n",
              "    </tr>\n",
              "    <tr>\n",
              "      <th>4857</th>\n",
              "      <td>2023-12-05</td>\n",
              "      <td>130.369995</td>\n",
              "      <td>133.539993</td>\n",
              "      <td>129.729996</td>\n",
              "      <td>132.389999</td>\n",
              "      <td>132.389999</td>\n",
              "      <td>19216500</td>\n",
              "    </tr>\n",
              "  </tbody>\n",
              "</table>\n",
              "<p>4858 rows × 7 columns</p>\n",
              "</div>\n",
              "    <div class=\"colab-df-buttons\">\n",
              "\n",
              "  <div class=\"colab-df-container\">\n",
              "    <button class=\"colab-df-convert\" onclick=\"convertToInteractive('df-e5557163-9258-49b4-80f8-070a6a475a16')\"\n",
              "            title=\"Convert this dataframe to an interactive table.\"\n",
              "            style=\"display:none;\">\n",
              "\n",
              "  <svg xmlns=\"http://www.w3.org/2000/svg\" height=\"24px\" viewBox=\"0 -960 960 960\">\n",
              "    <path d=\"M120-120v-720h720v720H120Zm60-500h600v-160H180v160Zm220 220h160v-160H400v160Zm0 220h160v-160H400v160ZM180-400h160v-160H180v160Zm440 0h160v-160H620v160ZM180-180h160v-160H180v160Zm440 0h160v-160H620v160Z\"/>\n",
              "  </svg>\n",
              "    </button>\n",
              "\n",
              "  <style>\n",
              "    .colab-df-container {\n",
              "      display:flex;\n",
              "      gap: 12px;\n",
              "    }\n",
              "\n",
              "    .colab-df-convert {\n",
              "      background-color: #E8F0FE;\n",
              "      border: none;\n",
              "      border-radius: 50%;\n",
              "      cursor: pointer;\n",
              "      display: none;\n",
              "      fill: #1967D2;\n",
              "      height: 32px;\n",
              "      padding: 0 0 0 0;\n",
              "      width: 32px;\n",
              "    }\n",
              "\n",
              "    .colab-df-convert:hover {\n",
              "      background-color: #E2EBFA;\n",
              "      box-shadow: 0px 1px 2px rgba(60, 64, 67, 0.3), 0px 1px 3px 1px rgba(60, 64, 67, 0.15);\n",
              "      fill: #174EA6;\n",
              "    }\n",
              "\n",
              "    .colab-df-buttons div {\n",
              "      margin-bottom: 4px;\n",
              "    }\n",
              "\n",
              "    [theme=dark] .colab-df-convert {\n",
              "      background-color: #3B4455;\n",
              "      fill: #D2E3FC;\n",
              "    }\n",
              "\n",
              "    [theme=dark] .colab-df-convert:hover {\n",
              "      background-color: #434B5C;\n",
              "      box-shadow: 0px 1px 3px 1px rgba(0, 0, 0, 0.15);\n",
              "      filter: drop-shadow(0px 1px 2px rgba(0, 0, 0, 0.3));\n",
              "      fill: #FFFFFF;\n",
              "    }\n",
              "  </style>\n",
              "\n",
              "    <script>\n",
              "      const buttonEl =\n",
              "        document.querySelector('#df-e5557163-9258-49b4-80f8-070a6a475a16 button.colab-df-convert');\n",
              "      buttonEl.style.display =\n",
              "        google.colab.kernel.accessAllowed ? 'block' : 'none';\n",
              "\n",
              "      async function convertToInteractive(key) {\n",
              "        const element = document.querySelector('#df-e5557163-9258-49b4-80f8-070a6a475a16');\n",
              "        const dataTable =\n",
              "          await google.colab.kernel.invokeFunction('convertToInteractive',\n",
              "                                                    [key], {});\n",
              "        if (!dataTable) return;\n",
              "\n",
              "        const docLinkHtml = 'Like what you see? Visit the ' +\n",
              "          '<a target=\"_blank\" href=https://colab.research.google.com/notebooks/data_table.ipynb>data table notebook</a>'\n",
              "          + ' to learn more about interactive tables.';\n",
              "        element.innerHTML = '';\n",
              "        dataTable['output_type'] = 'display_data';\n",
              "        await google.colab.output.renderOutput(dataTable, element);\n",
              "        const docLink = document.createElement('div');\n",
              "        docLink.innerHTML = docLinkHtml;\n",
              "        element.appendChild(docLink);\n",
              "      }\n",
              "    </script>\n",
              "  </div>\n",
              "\n",
              "\n",
              "    <div id=\"df-f8c58b0d-115a-4878-af58-ec76afcf7be8\">\n",
              "      <button class=\"colab-df-quickchart\" onclick=\"quickchart('df-f8c58b0d-115a-4878-af58-ec76afcf7be8')\"\n",
              "                title=\"Suggest charts\"\n",
              "                style=\"display:none;\">\n",
              "\n",
              "<svg xmlns=\"http://www.w3.org/2000/svg\" height=\"24px\"viewBox=\"0 0 24 24\"\n",
              "     width=\"24px\">\n",
              "    <g>\n",
              "        <path d=\"M19 3H5c-1.1 0-2 .9-2 2v14c0 1.1.9 2 2 2h14c1.1 0 2-.9 2-2V5c0-1.1-.9-2-2-2zM9 17H7v-7h2v7zm4 0h-2V7h2v10zm4 0h-2v-4h2v4z\"/>\n",
              "    </g>\n",
              "</svg>\n",
              "      </button>\n",
              "\n",
              "<style>\n",
              "  .colab-df-quickchart {\n",
              "      --bg-color: #E8F0FE;\n",
              "      --fill-color: #1967D2;\n",
              "      --hover-bg-color: #E2EBFA;\n",
              "      --hover-fill-color: #174EA6;\n",
              "      --disabled-fill-color: #AAA;\n",
              "      --disabled-bg-color: #DDD;\n",
              "  }\n",
              "\n",
              "  [theme=dark] .colab-df-quickchart {\n",
              "      --bg-color: #3B4455;\n",
              "      --fill-color: #D2E3FC;\n",
              "      --hover-bg-color: #434B5C;\n",
              "      --hover-fill-color: #FFFFFF;\n",
              "      --disabled-bg-color: #3B4455;\n",
              "      --disabled-fill-color: #666;\n",
              "  }\n",
              "\n",
              "  .colab-df-quickchart {\n",
              "    background-color: var(--bg-color);\n",
              "    border: none;\n",
              "    border-radius: 50%;\n",
              "    cursor: pointer;\n",
              "    display: none;\n",
              "    fill: var(--fill-color);\n",
              "    height: 32px;\n",
              "    padding: 0;\n",
              "    width: 32px;\n",
              "  }\n",
              "\n",
              "  .colab-df-quickchart:hover {\n",
              "    background-color: var(--hover-bg-color);\n",
              "    box-shadow: 0 1px 2px rgba(60, 64, 67, 0.3), 0 1px 3px 1px rgba(60, 64, 67, 0.15);\n",
              "    fill: var(--button-hover-fill-color);\n",
              "  }\n",
              "\n",
              "  .colab-df-quickchart-complete:disabled,\n",
              "  .colab-df-quickchart-complete:disabled:hover {\n",
              "    background-color: var(--disabled-bg-color);\n",
              "    fill: var(--disabled-fill-color);\n",
              "    box-shadow: none;\n",
              "  }\n",
              "\n",
              "  .colab-df-spinner {\n",
              "    border: 2px solid var(--fill-color);\n",
              "    border-color: transparent;\n",
              "    border-bottom-color: var(--fill-color);\n",
              "    animation:\n",
              "      spin 1s steps(1) infinite;\n",
              "  }\n",
              "\n",
              "  @keyframes spin {\n",
              "    0% {\n",
              "      border-color: transparent;\n",
              "      border-bottom-color: var(--fill-color);\n",
              "      border-left-color: var(--fill-color);\n",
              "    }\n",
              "    20% {\n",
              "      border-color: transparent;\n",
              "      border-left-color: var(--fill-color);\n",
              "      border-top-color: var(--fill-color);\n",
              "    }\n",
              "    30% {\n",
              "      border-color: transparent;\n",
              "      border-left-color: var(--fill-color);\n",
              "      border-top-color: var(--fill-color);\n",
              "      border-right-color: var(--fill-color);\n",
              "    }\n",
              "    40% {\n",
              "      border-color: transparent;\n",
              "      border-right-color: var(--fill-color);\n",
              "      border-top-color: var(--fill-color);\n",
              "    }\n",
              "    60% {\n",
              "      border-color: transparent;\n",
              "      border-right-color: var(--fill-color);\n",
              "    }\n",
              "    80% {\n",
              "      border-color: transparent;\n",
              "      border-right-color: var(--fill-color);\n",
              "      border-bottom-color: var(--fill-color);\n",
              "    }\n",
              "    90% {\n",
              "      border-color: transparent;\n",
              "      border-bottom-color: var(--fill-color);\n",
              "    }\n",
              "  }\n",
              "</style>\n",
              "\n",
              "      <script>\n",
              "        async function quickchart(key) {\n",
              "          const quickchartButtonEl =\n",
              "            document.querySelector('#' + key + ' button');\n",
              "          quickchartButtonEl.disabled = true;  // To prevent multiple clicks.\n",
              "          quickchartButtonEl.classList.add('colab-df-spinner');\n",
              "          try {\n",
              "            const charts = await google.colab.kernel.invokeFunction(\n",
              "                'suggestCharts', [key], {});\n",
              "          } catch (error) {\n",
              "            console.error('Error during call to suggestCharts:', error);\n",
              "          }\n",
              "          quickchartButtonEl.classList.remove('colab-df-spinner');\n",
              "          quickchartButtonEl.classList.add('colab-df-quickchart-complete');\n",
              "        }\n",
              "        (() => {\n",
              "          let quickchartButtonEl =\n",
              "            document.querySelector('#df-f8c58b0d-115a-4878-af58-ec76afcf7be8 button');\n",
              "          quickchartButtonEl.style.display =\n",
              "            google.colab.kernel.accessAllowed ? 'block' : 'none';\n",
              "        })();\n",
              "      </script>\n",
              "    </div>\n",
              "\n",
              "  <div id=\"id_6bb6f7f9-a390-4ca3-833a-2040a7a1acca\">\n",
              "    <style>\n",
              "      .colab-df-generate {\n",
              "        background-color: #E8F0FE;\n",
              "        border: none;\n",
              "        border-radius: 50%;\n",
              "        cursor: pointer;\n",
              "        display: none;\n",
              "        fill: #1967D2;\n",
              "        height: 32px;\n",
              "        padding: 0 0 0 0;\n",
              "        width: 32px;\n",
              "      }\n",
              "\n",
              "      .colab-df-generate:hover {\n",
              "        background-color: #E2EBFA;\n",
              "        box-shadow: 0px 1px 2px rgba(60, 64, 67, 0.3), 0px 1px 3px 1px rgba(60, 64, 67, 0.15);\n",
              "        fill: #174EA6;\n",
              "      }\n",
              "\n",
              "      [theme=dark] .colab-df-generate {\n",
              "        background-color: #3B4455;\n",
              "        fill: #D2E3FC;\n",
              "      }\n",
              "\n",
              "      [theme=dark] .colab-df-generate:hover {\n",
              "        background-color: #434B5C;\n",
              "        box-shadow: 0px 1px 3px 1px rgba(0, 0, 0, 0.15);\n",
              "        filter: drop-shadow(0px 1px 2px rgba(0, 0, 0, 0.3));\n",
              "        fill: #FFFFFF;\n",
              "      }\n",
              "    </style>\n",
              "    <button class=\"colab-df-generate\" onclick=\"generateWithVariable('google_data')\"\n",
              "            title=\"Generate code using this dataframe.\"\n",
              "            style=\"display:none;\">\n",
              "\n",
              "  <svg xmlns=\"http://www.w3.org/2000/svg\" height=\"24px\"viewBox=\"0 0 24 24\"\n",
              "       width=\"24px\">\n",
              "    <path d=\"M7,19H8.4L18.45,9,17,7.55,7,17.6ZM5,21V16.75L18.45,3.32a2,2,0,0,1,2.83,0l1.4,1.43a1.91,1.91,0,0,1,.58,1.4,1.91,1.91,0,0,1-.58,1.4L9.25,21ZM18.45,9,17,7.55Zm-12,3A5.31,5.31,0,0,0,4.9,8.1,5.31,5.31,0,0,0,1,6.5,5.31,5.31,0,0,0,4.9,4.9,5.31,5.31,0,0,0,6.5,1,5.31,5.31,0,0,0,8.1,4.9,5.31,5.31,0,0,0,12,6.5,5.46,5.46,0,0,0,6.5,12Z\"/>\n",
              "  </svg>\n",
              "    </button>\n",
              "    <script>\n",
              "      (() => {\n",
              "      const buttonEl =\n",
              "        document.querySelector('#id_6bb6f7f9-a390-4ca3-833a-2040a7a1acca button.colab-df-generate');\n",
              "      buttonEl.style.display =\n",
              "        google.colab.kernel.accessAllowed ? 'block' : 'none';\n",
              "\n",
              "      buttonEl.onclick = () => {\n",
              "        google.colab.notebook.generateWithVariable('google_data');\n",
              "      }\n",
              "      })();\n",
              "    </script>\n",
              "  </div>\n",
              "\n",
              "    </div>\n",
              "  </div>\n"
            ],
            "application/vnd.google.colaboratory.intrinsic+json": {
              "type": "dataframe",
              "variable_name": "google_data",
              "summary": "{\n  \"name\": \"google_data\",\n  \"rows\": 4858,\n  \"fields\": [\n    {\n      \"column\": \"Date\",\n      \"properties\": {\n        \"dtype\": \"object\",\n        \"num_unique_values\": 4858,\n        \"samples\": [\n          \"2011-01-14\",\n          \"2023-05-30\",\n          \"2022-06-03\"\n        ],\n        \"semantic_type\": \"\",\n        \"description\": \"\"\n      }\n    },\n    {\n      \"column\": \"Open\",\n      \"properties\": {\n        \"dtype\": \"number\",\n        \"std\": 38.59069490475635,\n        \"min\": 2.47049,\n        \"max\": 151.863495,\n        \"num_unique_values\": 4713,\n        \"samples\": [\n          10.701389,\n          17.635647,\n          55.3475\n        ],\n        \"semantic_type\": \"\",\n        \"description\": \"\"\n      }\n    },\n    {\n      \"column\": \"High\",\n      \"properties\": {\n        \"dtype\": \"number\",\n        \"std\": 39.03175801989242,\n        \"min\": 2.534002,\n        \"max\": 152.100006,\n        \"num_unique_values\": 4712,\n        \"samples\": [\n          11.380095,\n          14.667273,\n          51.248501\n        ],\n        \"semantic_type\": \"\",\n        \"description\": \"\"\n      }\n    },\n    {\n      \"column\": \"Low\",\n      \"properties\": {\n        \"dtype\": \"number\",\n        \"std\": 38.193016014578305,\n        \"min\": 2.390042,\n        \"max\": 149.887497,\n        \"num_unique_values\": 4743,\n        \"samples\": [\n          27.458612,\n          57.750099,\n          16.958435\n        ],\n        \"semantic_type\": \"\",\n        \"description\": \"\"\n      }\n    },\n    {\n      \"column\": \"Close\",\n      \"properties\": {\n        \"dtype\": \"number\",\n        \"std\": 38.61810677354332,\n        \"min\": 2.490913,\n        \"max\": 150.709,\n        \"num_unique_values\": 4765,\n        \"samples\": [\n          13.295166,\n          50.323502,\n          27.483543\n        ],\n        \"semantic_type\": \"\",\n        \"description\": \"\"\n      }\n    },\n    {\n      \"column\": \"Adj Close\",\n      \"properties\": {\n        \"dtype\": \"number\",\n        \"std\": 38.61810677354332,\n        \"min\": 2.490913,\n        \"max\": 150.709,\n        \"num_unique_values\": 4765,\n        \"samples\": [\n          13.295166,\n          50.323502,\n          27.483543\n        ],\n        \"semantic_type\": \"\",\n        \"description\": \"\"\n      }\n    },\n    {\n      \"column\": \"Volume\",\n      \"properties\": {\n        \"dtype\": \"number\",\n        \"std\": 151242371,\n        \"min\": 158434,\n        \"max\": 1650832619,\n        \"num_unique_values\": 4747,\n        \"samples\": [\n          132791878,\n          40536000,\n          294559960\n        ],\n        \"semantic_type\": \"\",\n        \"description\": \"\"\n      }\n    }\n  ]\n}"
            }
          },
          "metadata": {},
          "execution_count": 18
        }
      ]
    },
    {
      "cell_type": "markdown",
      "source": [
        "We want only the volume collumn, so we will filter that out."
      ],
      "metadata": {
        "id": "awaL4n05-H2E"
      }
    },
    {
      "cell_type": "code",
      "source": [
        "google_data = google_data['Volume']\n",
        "google_data = google_data / 1_000_000\n",
        "google_data.mean() #getting the mean for later reference"
      ],
      "metadata": {
        "colab": {
          "base_uri": "https://localhost:8080/"
        },
        "id": "t4fZOhGg-Ytc",
        "outputId": "28816cec-fed1-48b7-f123-b99c2f62228c"
      },
      "execution_count": 19,
      "outputs": [
        {
          "output_type": "execute_result",
          "data": {
            "text/plain": [
              "np.float64(118.91521728962533)"
            ]
          },
          "metadata": {},
          "execution_count": 19
        }
      ]
    },
    {
      "cell_type": "markdown",
      "source": [
        "I will now use a HalfNormal Distribution as another prior. Solving for sigma using the formula (mean = (sqrt(2) * sigma)/sqrt(pi)) I get sigma is around 149."
      ],
      "metadata": {
        "id": "34OpmLhYLAco"
      }
    },
    {
      "cell_type": "code",
      "source": [
        "pz.HalfNormal(sigma = 149).plot_pdf(moments=\"mksv\")"
      ],
      "metadata": {
        "colab": {
          "base_uri": "https://localhost:8080/",
          "height": 447
        },
        "id": "99LKDkjq4JM2",
        "outputId": "9bbb1044-8f3b-4fe2-939e-f87da1823603"
      },
      "execution_count": 20,
      "outputs": [
        {
          "output_type": "execute_result",
          "data": {
            "text/plain": [
              "<Axes: >"
            ]
          },
          "metadata": {},
          "execution_count": 20
        },
        {
          "output_type": "display_data",
          "data": {
            "text/plain": [
              "<Figure size 640x480 with 1 Axes>"
            ],
            "image/png": "[encoded data removed]"
          },
          "metadata": {}
        }
      ]
    },
    {
      "cell_type": "code",
      "source": [
        "#N for normal\n",
        "with pm.Model() as model_google_data_HN:\n",
        "    μ = pm.Uniform('μ', lower=23.39, upper=29.19)\n",
        "\n",
        "    #half of a normal dist\n",
        "    σ = pm.HalfNormal('σ', sigma=149)\n",
        "\n",
        "    #our fancy new likelihood, with two priors\n",
        "    Y = pm.Normal('Y', mu = μ, sigma = σ, observed=google_data)\n",
        "    idata_google_data_HN = pm.sample(progressbar = False)"
      ],
      "metadata": {
        "id": "CYM6qi3_4bp_"
      },
      "execution_count": null,
      "outputs": []
    },
    {
      "cell_type": "code",
      "source": [
        "az.plot_posterior(idata_google_data_HN)"
      ],
      "metadata": {
        "id": "vBcN3Kkx4qeZ"
      },
      "execution_count": null,
      "outputs": []
    },
    {
      "cell_type": "markdown",
      "source": [
        "Now I am going to check which pairs our model recommends."
      ],
      "metadata": {
        "id": "FP1uSwA835ES"
      }
    },
    {
      "cell_type": "code",
      "source": [
        "az.plot_pair(idata_google_data_HN, kind='kde', marginals=True)"
      ],
      "metadata": {
        "id": "zdC96LdH4Zrp"
      },
      "execution_count": null,
      "outputs": []
    },
    {
      "cell_type": "markdown",
      "source": [
        "I will also use posterior predictive checks to truly make a practical prediction."
      ],
      "metadata": {
        "id": "r9eWsVZd45pM"
      }
    },
    {
      "cell_type": "code",
      "source": [
        "pm.sample_posterior_predictive(idata_google_data_HN, model=model_google_data_HN, extend_inferencedata=True, progressbar=False)"
      ],
      "metadata": {
        "id": "P-TnUTFt5Vxh"
      },
      "execution_count": null,
      "outputs": []
    },
    {
      "cell_type": "code",
      "source": [
        "az.plot_ppc(idata_google_data_HN, num_pp_samples=1000, figsize=(12, 4), colors=[\"C1\", \"C0\", \"C1\"])"
      ],
      "metadata": {
        "id": "nMz5sfq_5sKQ"
      },
      "execution_count": null,
      "outputs": []
    },
    {
      "cell_type": "markdown",
      "source": [
        "# Conclusion"
      ],
      "metadata": {
        "id": "fIl9IzEtyxNg"
      }
    },
    {
      "cell_type": "markdown",
      "source": [
        "In conclusion, it seems as though my means are quite scattered. This could be due to a variety of reasons, but I now believe the main one to be that depending on the date the volume may have been staggeringly different or volatile as my dataset covers 2005 to 2023 while my other prior is based on recent trends. Therefore, trying to optimize the PPC's would not be able to solve the underlying problem of context of the data."
      ],
      "metadata": {
        "id": "OuDKrdXdyzhw"
      }
    },
    {
      "cell_type": "markdown",
      "source": [
        "In the future, it would be better to account for the date ranges that I am pulling from in a clever way (like basing prior inferences more skewed towards date ranges from the dataset)."
      ],
      "metadata": {
        "id": "6TnuCeTIzF9P"
      }
    },
    {
      "cell_type": "markdown",
      "source": [
        "Additionally, I could base my data only on the current state in the future to mitigate these differences in volume when date is involved."
      ],
      "metadata": {
        "id": "Os2myOdp6w3o"
      }
    }
  ]
}